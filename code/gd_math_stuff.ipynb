{
 "cells": [
  {
   "cell_type": "code",
   "execution_count": 6,
   "metadata": {
    "collapsed": true
   },
   "outputs": [],
   "source": [
    "import numpy as np\n",
    "import itertools\n",
    "from collections import Counter\n",
    "import sys\n",
    "import matplotlib\n",
    "import matplotlib.pyplot as plt\n",
    "%matplotlib inline"
   ]
  },
  {
   "cell_type": "code",
   "execution_count": 7,
   "metadata": {
    "collapsed": false
   },
   "outputs": [],
   "source": [
    "class MMboard:\n",
    "    '''An instance of a MasterMind board.\n",
    "    \n",
    "    The object of the game is to guess the hidden code of length L, \n",
    "    where each code element is any one of C characters. \n",
    "    \n",
    "    In response to a guess of the code, if the code is incorrect,\n",
    "    a response (b, w) is provided; b represents the number of \n",
    "    characters where the correct character is provided in the \n",
    "    correct position, whereas w represents the number of characters\n",
    "    that are in the code but are in the wrong position (i.e. the\n",
    "    number of characters that are actually in the code but are not\n",
    "    in the position guessed). \n",
    "    \n",
    "    The game continues until the correct code is guessed, or until\n",
    "    a predefined number of allowable tries have been exhausted. \n",
    "    \n",
    "    Note: currently supports numcolors<=10. '''\n",
    "    \n",
    "    def __init__ (self, codelength=4, numcolors=6, max_tries=10, suppress_output=False):\n",
    "        \n",
    "        assert (codelength >= 1) and (max_tries >= 1)\n",
    "        assert (numcolors >= 1)  and (numcolors <= 10)\n",
    "        \n",
    "        self._L = codelength\n",
    "        self._C = numcolors\n",
    "        self._N_iters = max_tries\n",
    "        self._nooutput = suppress_output\n",
    "        \n",
    "        self._code = np.zeros(self._L)  # contains the code\n",
    "        \n",
    "        self.n_guessed = 0  # number of guesses tried\n",
    "        self.gameover = False\n",
    "    \n",
    "    def _codeOK(self, cc):\n",
    "        '''Helper function to check that inputs for code are in\n",
    "        proper form. '''\n",
    "        \n",
    "        try:\n",
    "            init = np.array([int(item) for item in cc])\n",
    "        except:\n",
    "            raise ValueError('Code not in the form of a list/array of length ' + str(self._L))\n",
    "\n",
    "        if len(init) != self._L:\n",
    "            raise ValueError('Code not of length ' + str(self._L))\n",
    "\n",
    "        if not all(isinstance(item, int) for item in init):\n",
    "            raise ValueError('Each character must be an integer, between 0 and ' + str(self._C - 1))\n",
    "\n",
    "        if not((init >= 0).all() and (init <= self._C - 1).all()):\n",
    "            raise ValueError('Each integer must be between 0 and ' + str(self._C - 1)) \n",
    "        \n",
    "        return True\n",
    "        \n",
    "    def set_code(self, custom=None, showcode=True):\n",
    "        '''Initalize/reset the code.\n",
    "        \n",
    "        Can set the code manually (provide a list or array of length L)\n",
    "        or set one at random (default).\n",
    "        \n",
    "        Example: myboard.set_code([0, 1, 2, 3])\n",
    "        \n",
    "        showcode: whether or not the code being set is displayed\n",
    "        '''\n",
    "        \n",
    "        if (custom is not None) and self._codeOK(custom):  \n",
    "            self._code = np.array([int(item) for item in custom])\n",
    "        else:\n",
    "            self._code = np.random.randint(0, self._C, size=self._L)  # each element is [0, C)\n",
    "        \n",
    "        if showcode and (not self._nooutput):\n",
    "            print \"Code successfully initialized to \", self._code, \"\\n\"\n",
    "        elif not self._nooutput:\n",
    "            print \"Code successfully initialized. Good luck.\\n\"\n",
    "            \n",
    "        self.n_guessed = 0  # reset guess counter\n",
    "        self.gameover = False\n",
    "        \n",
    "    def check_guess(self, guess, answer):\n",
    "        '''Process a guess given the correct code.\n",
    "        \n",
    "        Take a guess in the form of a list of integers, and returns\n",
    "        (number of characters in the correct position,\n",
    "         number of characters in the wrong position but elsewhere in code).\n",
    "         \n",
    "        Usually, the answer will be the secret code (self._code), but this\n",
    "        method can be used to compare any guess to any answer.\n",
    "        \n",
    "        Example: myboard.guess_code([0, 1, 2, 3], self._code)\n",
    "        Returns: (1, 1)  # self._code is [2 1 4 4] '''\n",
    "        \n",
    "        # counters\n",
    "        corpos = 0  \n",
    "        wrongpos = 0  \n",
    "        # track non-counted characters\n",
    "        code_left = []\n",
    "        guess_left = []\n",
    "       \n",
    "        # check for correct digit in correct place  \n",
    "        for i, digit in enumerate(answer):            \n",
    "            if digit==guess[i]:\n",
    "                corpos += 1  \n",
    "            else:\n",
    "                code_left.append(digit)\n",
    "                guess_left.append(guess[i])\n",
    "            \n",
    "        assert len(code_left) == len(guess_left)\n",
    "\n",
    "        if len(code_left)>0:\n",
    "            # check for correct digit in wrong place\n",
    "            for digit in code_left:\n",
    "                if digit in guess_left:\n",
    "                    wrongpos += 1\n",
    "                    guess_left.remove(digit) # removes only one occurrence\n",
    "        \n",
    "        return (corpos, wrongpos)\n",
    "\n",
    "    def guess_code(self, guess):\n",
    "        '''Entry method to process guess, with a check to see if number of guesses has\n",
    "        been exceeded, or code guessed correctly.\n",
    "        \n",
    "        If game is over, self.gameover is set to True.\n",
    "        \n",
    "        Returns: a tuple - (number of characters in the correct position,\n",
    "                            number of characters in the wrong position but elsewhere in code); \n",
    "                  None if there was an error in the guess; or\n",
    "                  -1 if game is over'''\n",
    "\n",
    "        if not self.gameover:\n",
    "            try:\n",
    "                assert self._codeOK(guess)\n",
    "                self.n_guessed += 1\n",
    "                if not self._nooutput:\n",
    "                    print \"guess #\" + str(self.n_guessed) + \" of \" + str(self._N_iters) + \": you guessed \", guess \n",
    "                    sys.stdout.flush()\n",
    "            except:\n",
    "                if not self._nooutput:\n",
    "                    print \"  [Error] please enter a list of %i integers from 0 to %i. try again\" % (self._L, self._C - 1)\n",
    "                return None\n",
    "        \n",
    "            # get response\n",
    "            b, w = self.check_guess(guess=guess, answer=self._code)\n",
    "            assert (b + w) <= self._L\n",
    "\n",
    "            if b == self._L:\n",
    "                if not self._nooutput:\n",
    "                    print \"You have %i right item(s) in the right place\" % b\n",
    "                    print \"You win!\"\n",
    "                self.gameover = True\n",
    "                return (b, w)\n",
    "            \n",
    "            if not self._nooutput:                \n",
    "                print \"You have %i right item(s) in the right place, and\" % b\n",
    "                print \"  %i right item(s) but in the wrong place\\n\" % w \n",
    "            \n",
    "            if self.n_guessed == self._N_iters:\n",
    "                if not self._nooutput:\n",
    "                    print \"Game over. The correct code was\", self._code  \n",
    "                self.gameover = True\n",
    "\n",
    "            return (b, w)\n",
    "        \n",
    "        # else\n",
    "        return -1  # game already over"
   ]
  },
  {
   "cell_type": "markdown",
   "metadata": {},
   "source": [
    "## General notation"
   ]
  },
  {
   "cell_type": "markdown",
   "metadata": {},
   "source": [
    "<p>Let us introduce some notation. For simplicity, we use one-indexed arrays even though the Python code is zero-indexed. We define:</p>\n",
    "<ul>\n",
    "<li>the list of possible colors as $CC = \\{1, ..., C\\}$</li>\n",
    "<li>the list of positions in the code as $LL = \\{1, ..., L\\}$</li>\n",
    "<li>the hidden code as $H_i \\ \\forall i \\in LL$</li>\n",
    "<li>a particular guess of the hidden code as $T_i \\ \\forall i \\in LL$</li>\n",
    "<li>the indicator function $\\mathbb{1}_{A=B}$, which equals 1 if A=B and equals 0 otherwise</li>\n",
    "</ul>\n",
    "<p>Using the above notation, we can denote the responses at each turn as follows:</p>\n",
    "<p>The number of correctly guessed pegs can be denoted as $B = \\sum_{i=1}^L \\mathbb{1}_{T_i=H_i} \\ \\forall i \\in LL$.</p>\n",
    "<p>The number of correctly guessed pegs in the wrong position can be denoted as: $W = \\sum_{i=1}^{C} \\min(\\sum_{j=1}^{L}\\mathbb{1}_{H_j=i, G_i}, \\sum_{j=1}^{L}\\mathbb{1}_{T_j=i, G_i}) - B$</p>"
   ]
  },
  {
   "cell_type": "markdown",
   "metadata": {
    "collapsed": true
   },
   "source": [
    "## Random sampling from posterior"
   ]
  },
  {
   "cell_type": "markdown",
   "metadata": {},
   "source": [
    "<p><em>Adapted from http://staff.utia.cas.cz/vomlel/mastermind.pdf</em></p>"
   ]
  },
  {
   "cell_type": "markdown",
   "metadata": {},
   "source": [
    "<p>Using the above notation, we can define the joint probability distribution over all possible code sequences as $P(H_1, ..., H_L)$.</p>\n",
    "<p>Our prior is uniformly distributed, i.e. all $P(H_1=h_1, ..., H_L=h_l) = \\frac{1}{C^L}$</p>\n",
    "<p>We denote the evidence that we obtain at each step as $e = (B, W)$, where B and W are defined as above. We can update the posterior joint distribution over code sequences as follows:</p>\n",
    "$P(H_1=h_1, ..., H_L=h_l | e) = \\left\\{\n",
    "\\begin{align*}\n",
    "\\frac{1}{\\big| \\ s(e) \\ \\big|} & & if (h_1, ..., h_l) \\ \\text{is a possible code}\\\\\n",
    "0 & & \\text{otherwise}\n",
    "\\end{align*}\n",
    "\\right.$\n",
    "<p>where s(e) denotes the set of possible hidden codes, given the evidence, and | s(e) | denotes the cardinality of this set.</p>\n",
    "<p>We can define the posterior after multiple game steps analogously:</p>\n",
    "$P(H_1=h_1, ..., H_L=h_l | e_1, ..., e_n) = \\left\\{\n",
    "\\begin{align*}\n",
    "\\frac{1}{\\big| \\ s(e_1) \\ \\cap \\ ... \\ \\cap \\ s(e_n) \\ \\big|} & & if (h_1, ..., h_l) \\ \\text{is a possible code}\\\\\n",
    "0 & & \\text{otherwise}\n",
    "\\end{align*}\n",
    "\\right.$\n",
    "<p>where $\\ s(e_1) \\ \\cap \\ ... \\ \\cap \\ s(e_n)$ denotes the intersection of the sets of possible hidden codes, given the evidence at each step, and the entire denominator denotes the cardinality of this intersection.</p>\n",
    "<p>We can use this setup to define the posterior updates at each round of the game. We note that the posterior distribution remains uniform among valid codes at each step of the game, so the best we can do at each round is to choose randomly based on this updated distribution.</p>\n",
    "<p>An aside: some of the literature on Mastermind uses Shannon entropy to measure the uncertainty associated with a given code. This measure is calculated as follows for a given code sequence: $P(H_1=h_1, ..., H_L=h_l | e_1, ..., e_n) \\log P(H_1=h_1, ..., H_L=h_l | e_1, ..., e_n)$ (or, in some texts, the negative of this value) and is only equal to zero where the code is known. However, we do not use this measure here as it cannot be used to differentiate across potential guesses due to the uniform posterior updates under this framework.</p>"
   ]
  },
  {
   "cell_type": "markdown",
   "metadata": {},
   "source": [
    "## Local entropy"
   ]
  },
  {
   "cell_type": "code",
   "execution_count": null,
   "metadata": {
    "collapsed": true
   },
   "outputs": [],
   "source": []
  },
  {
   "cell_type": "code",
   "execution_count": null,
   "metadata": {
    "collapsed": true
   },
   "outputs": [],
   "source": []
  },
  {
   "cell_type": "code",
   "execution_count": null,
   "metadata": {
    "collapsed": true
   },
   "outputs": [],
   "source": []
  },
  {
   "cell_type": "code",
   "execution_count": null,
   "metadata": {
    "collapsed": true
   },
   "outputs": [],
   "source": []
  },
  {
   "cell_type": "markdown",
   "metadata": {},
   "source": [
    "Alternative: guess based on entropy of possible response classes  \n",
    "http://www.geometer.org/mathcircles/mastermind.pdf"
   ]
  },
  {
   "cell_type": "code",
   "execution_count": null,
   "metadata": {
    "collapsed": true
   },
   "outputs": [],
   "source": []
  }
 ],
 "metadata": {
  "kernelspec": {
   "display_name": "Python 2",
   "language": "python",
   "name": "python2"
  },
  "language_info": {
   "codemirror_mode": {
    "name": "ipython",
    "version": 2
   },
   "file_extension": ".py",
   "mimetype": "text/x-python",
   "name": "python",
   "nbconvert_exporter": "python",
   "pygments_lexer": "ipython2",
   "version": "2.7.11"
  }
 },
 "nbformat": 4,
 "nbformat_minor": 0
}
