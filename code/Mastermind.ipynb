{
 "cells": [
  {
   "cell_type": "markdown",
   "metadata": {},
   "source": [
    "# AM207 Project: Mastermind\n",
    "... Nice introductory text ..."
   ]
  },
  {
   "cell_type": "code",
   "execution_count": 1,
   "metadata": {
    "collapsed": true
   },
   "outputs": [],
   "source": [
    "import numpy as np\n",
    "import scipy\n",
    "import matplotlib.pyplot as plt\n",
    "%matplotlib inline"
   ]
  },
  {
   "cell_type": "markdown",
   "metadata": {},
   "source": [
    "## I added some simulated annealing from my HW4"
   ]
  },
  {
   "cell_type": "code",
   "execution_count": null,
   "metadata": {
    "collapsed": true
   },
   "outputs": [],
   "source": [
    "# Simulated Annealing function from my homework\n",
    "\n",
    "def anneal():\n",
    "    # Settings\n",
    "    iteration_max = 10000  # Stop condition\n",
    "    accepted_iterations_max = 1000\n",
    "    accepted = 0\n",
    "    temperature = 100000.\n",
    "    reheat_interval = 100\n",
    "    cooling_coefficient = 0.9  # Cool to 0.98 of previous temperature every 100 steps\n",
    "    \n",
    "    # Set current\n",
    "    m = np.eye(n_points) #[np.random.choice(n_points, size=n_points, replace=False)]  # Random order\n",
    "    a = affine(m)\n",
    "    \n",
    "    # Storage\n",
    "    current_energy = error(x.dot(a), m.dot(y))\n",
    "    best = (np.copy(m), current_energy.copy())\n",
    "    trace = [current_energy]\n",
    "    \n",
    "    # Loop over iterations\n",
    "    for i in xrange(iteration_max):\n",
    "        current_energy = trace[-1]\n",
    "        \n",
    "        # Continue until acceptance\n",
    "        mp = proposal(m)\n",
    "        ap = affine(mp)\n",
    "        proposed_energy = error(x.dot(ap), mp.dot(y))\n",
    "        delta = proposed_energy - current_energy\n",
    "\n",
    "        # Accept\n",
    "        if delta < 0 or np.exp(delta / temperature) < np.random.rand():\n",
    "            trace.append(proposed_energy)\n",
    "            m = np.copy(mp)\n",
    "            a = np.copy(ap)\n",
    "            accepted += 1\n",
    "            if proposed_energy < best[1]:\n",
    "                best = (np.copy(m), proposed_energy)\n",
    "            if accepted >= accepted_iterations_max:\n",
    "                break\n",
    "            \n",
    "        # Temperature stuff\n",
    "        if i % reheat_interval:\n",
    "            if temperature < 1:\n",
    "                # Reheat\n",
    "                temperature = 100000.\n",
    "            else:\n",
    "                # Cool down\n",
    "                temperature *= cooling_coefficient\n",
    "    \n",
    "    # Give back trace\n",
    "    return best[0], trace"
   ]
  },
  {
   "cell_type": "code",
   "execution_count": null,
   "metadata": {
    "collapsed": true
   },
   "outputs": [],
   "source": [
    "def proposal(current):\n",
    "    pass"
   ]
  }
 ],
 "metadata": {
  "kernelspec": {
   "display_name": "Python 2",
   "language": "python",
   "name": "python2"
  },
  "language_info": {
   "codemirror_mode": {
    "name": "ipython",
    "version": 2
   },
   "file_extension": ".py",
   "mimetype": "text/x-python",
   "name": "python",
   "nbconvert_exporter": "python",
   "pygments_lexer": "ipython2",
   "version": "2.7.11"
  }
 },
 "nbformat": 4,
 "nbformat_minor": 0
}
