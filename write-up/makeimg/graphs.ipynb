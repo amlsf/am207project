{
 "cells": [
  {
   "cell_type": "code",
   "execution_count": 17,
   "metadata": {
    "collapsed": false
   },
   "outputs": [
    {
     "name": "stderr",
     "output_type": "stream",
     "text": [
      "//anaconda/envs/py27/lib/python2.7/site-packages/matplotlib/__init__.py:872: UserWarning: axes.color_cycle is deprecated and replaced with axes.prop_cycle; please use the latter.\n",
      "  warnings.warn(self.msg_depr % (key, alt_key))\n"
     ]
    }
   ],
   "source": [
    "import numpy as np\n",
    "import pickle\n",
    "import matplotlib.pyplot as plt\n",
    "%matplotlib inline\n",
    "\n",
    "import seaborn as sns\n",
    "sns.set_style('white')\n",
    "sns.set_context('notebook')"
   ]
  },
  {
   "cell_type": "code",
   "execution_count": 18,
   "metadata": {
    "collapsed": false
   },
   "outputs": [
    {
     "name": "stderr",
     "output_type": "stream",
     "text": [
      "//anaconda/envs/py27/lib/python2.7/site-packages/matplotlib/__init__.py:892: UserWarning: axes.color_cycle is deprecated and replaced with axes.prop_cycle; please use the latter.\n",
      "  warnings.warn(self.msg_depr % (key, alt_key))\n"
     ]
    }
   ],
   "source": [
    "# for easy access to seaborn colors\n",
    "colorPalette = sns.color_palette()\n",
    "snsBlue = colorPalette[0]\n",
    "snsGreen = colorPalette[1]\n",
    "snsRed = colorPalette[2]\n",
    "snsPurple = colorPalette[3]\n",
    "snsYellow = colorPalette[4]\n",
    "snsAzure = colorPalette[5]"
   ]
  },
  {
   "cell_type": "code",
   "execution_count": 23,
   "metadata": {
    "collapsed": false
   },
   "outputs": [],
   "source": [
    "entropy = dict()\n",
    "entropy[0] = pickle.load(open('0.p', 'rb'))\n",
    "entropy[1] = pickle.load(open('1.p', 'rb'))\n",
    "entropy[2] = pickle.load(open('2.p', 'rb'))\n",
    "entropy[3] = pickle.load(open('3.p', 'rb'))"
   ]
  },
  {
   "cell_type": "code",
   "execution_count": 28,
   "metadata": {
    "collapsed": false
   },
   "outputs": [
    {
     "name": "stdout",
     "output_type": "stream",
     "text": [
      "0.918295834054\n",
      "3.30213908207\n"
     ]
    }
   ],
   "source": [
    "print min(entropy[0].values() + entropy[1].values() + entropy[2].values() + entropy[3].values())\n",
    "print max(entropy[0].values() + entropy[1].values() + entropy[2].values() + entropy[3].values())"
   ]
  },
  {
   "cell_type": "code",
   "execution_count": 43,
   "metadata": {
    "collapsed": false
   },
   "outputs": [
    {
     "data": {
      "image/png": "[encoded data removed]",
      "text/plain": [
       "<matplotlib.figure.Figure at 0x114707410>"
      ]
     },
     "metadata": {},
     "output_type": "display_data"
    }
   ],
   "source": [
    "bins = np.arange(0.0, 4.0, 0.1)\n",
    "plt.hist(entropy[0].values(), bins=bins, alpha=0.5, normed=True, color=snsBlue, label='First guess')\n",
    "plt.hist(entropy[1].values(), bins=bins, alpha=0.5, normed=True, color=snsGreen, label='Second guess')\n",
    "plt.hist(entropy[2].values(), bins=bins, alpha=0.5, normed=True, color=snsRed, label='Third guess')\n",
    "plt.hist(entropy[3].values(), bins=bins, alpha=0.5, normed=True, color=snsPurple, label='Fourth guess')\n",
    "plt.xlim(xmin=0.5, xmax=3.5)\n",
    "plt.xlabel('Entropy')\n",
    "plt.ylabel('Frequency')\n",
    "plt.title('Entropy distributions at each guess')\n",
    "plt.legend(loc='best')\n",
    "plt.show()"
   ]
  },
  {
   "cell_type": "code",
   "execution_count": null,
   "metadata": {
    "collapsed": true
   },
   "outputs": [],
   "source": []
  }
 ],
 "metadata": {
  "kernelspec": {
   "display_name": "Python 2",
   "language": "python",
   "name": "python2"
  },
  "language_info": {
   "codemirror_mode": {
    "name": "ipython",
    "version": 2
   },
   "file_extension": ".py",
   "mimetype": "text/x-python",
   "name": "python",
   "nbconvert_exporter": "python",
   "pygments_lexer": "ipython2",
   "version": "2.7.11"
  }
 },
 "nbformat": 4,
 "nbformat_minor": 0
}
