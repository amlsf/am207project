{
 "cells": [
  {
   "cell_type": "code",
   "execution_count": 277,
   "metadata": {
    "collapsed": true
   },
   "outputs": [],
   "source": [
    "import numpy as np\n",
    "import itertools\n",
    "from collections import Counter\n",
    "import sys\n",
    "import matplotlib\n",
    "import matplotlib.pyplot as plt\n",
    "%matplotlib inline"
   ]
  },
  {
   "cell_type": "code",
   "execution_count": 283,
   "metadata": {
    "collapsed": false
   },
   "outputs": [],
   "source": [
    "class MMboard:\n",
    "    '''An instance of a MasterMind board.\n",
    "    \n",
    "    The object of the game is to guess the hidden code of length L, \n",
    "    where each code element is any one of C characters. \n",
    "    \n",
    "    In response to a guess of the code, if the code is incorrect,\n",
    "    a response (b, w) is provided; b represents the number of \n",
    "    characters where the correct character is provided in the \n",
    "    correct position, whereas w represents the number of characters\n",
    "    that are in the code but are in the wrong position (i.e. the\n",
    "    number of characters that are actually in the code but are not\n",
    "    in the position guessed). \n",
    "    \n",
    "    The game continues until the correct code is guessed, or until\n",
    "    a predefined number of allowable tries have been exhausted. \n",
    "    \n",
    "    Note: currently supports numcolors<=10. '''\n",
    "    \n",
    "    def __init__ (self, codelength=4, numcolors=6, max_tries=10, suppress_output=False):\n",
    "        \n",
    "        assert (codelength >= 1) and (max_tries >= 1)\n",
    "        assert (numcolors >= 1)  and (numcolors <= 10)\n",
    "        \n",
    "        self._L = codelength\n",
    "        self._C = numcolors\n",
    "        self._N_iters = max_tries\n",
    "        self._nooutput = suppress_output\n",
    "        \n",
    "        self._code = np.zeros(self._L)  # contains the code\n",
    "        \n",
    "        self.n_guessed = 0  # number of guesses tried\n",
    "        self.gameover = False\n",
    "    \n",
    "    def _codeOK(self, cc):\n",
    "        '''Helper function to check that inputs for code are in\n",
    "        proper form. '''\n",
    "        \n",
    "        try:\n",
    "            init = np.array([int(item) for item in cc])\n",
    "        except:\n",
    "            raise ValueError('Code not in the form of a list/array of length ' + str(self._L))\n",
    "\n",
    "        if len(init) != self._L:\n",
    "            raise ValueError('Code not of length ' + str(self._L))\n",
    "\n",
    "        if not all(isinstance(item, int) for item in init):\n",
    "            raise ValueError('Each character must be an integer, between 0 and ' + str(self._C - 1))\n",
    "\n",
    "        if not((init >= 0).all() and (init <= self._C - 1).all()):\n",
    "            raise ValueError('Each integer must be between 0 and ' + str(self._C - 1)) \n",
    "        \n",
    "        return True\n",
    "        \n",
    "    def set_code(self, custom=None, showcode=True):\n",
    "        '''Initalize/reset the code.\n",
    "        \n",
    "        Can set the code manually (provide a list or array of length L)\n",
    "        or set one at random (default).\n",
    "        \n",
    "        Example: myboard.set_code([0, 1, 2, 3])\n",
    "        \n",
    "        showcode: whether or not the code being set is displayed\n",
    "        '''\n",
    "        \n",
    "        if (custom is not None) and self._codeOK(custom):  \n",
    "            self._code = np.array([int(item) for item in custom])\n",
    "        else:\n",
    "            self._code = np.random.randint(0, self._C, size=self._L)  # each element is [0, C)\n",
    "        \n",
    "        if showcode and (not self._nooutput):\n",
    "            print \"Code successfully initialized to \", self._code, \"\\n\"\n",
    "        elif not self._nooutput:\n",
    "            print \"Code successfully initialized. Good luck.\\n\"\n",
    "            \n",
    "        self.n_guessed = 0  # reset guess counter\n",
    "        self.gameover = False\n",
    "        \n",
    "    def check_guess(self, guess, answer):\n",
    "        '''Process a guess given the correct code.\n",
    "        \n",
    "        Take a guess in the form of a list of integers, and returns\n",
    "        (number of characters in the correct position,\n",
    "         number of characters in the wrong position but elsewhere in code).\n",
    "         \n",
    "        Usually, the answer will be the secret code (self._code), but this\n",
    "        method can be used to compare any guess to any answer.\n",
    "        \n",
    "        Example: myboard.guess_code([0, 1, 2, 3], self._code)\n",
    "        Returns: (1, 1)  # self._code is [2 1 4 4] '''\n",
    "        \n",
    "        # counters\n",
    "        corpos = 0  \n",
    "        wrongpos = 0  \n",
    "        # track non-counted characters\n",
    "        code_left = []\n",
    "        guess_left = []\n",
    "       \n",
    "        # check for correct digit in correct place  \n",
    "        for i, digit in enumerate(answer):            \n",
    "            if digit==guess[i]:\n",
    "                corpos += 1  \n",
    "            else:\n",
    "                code_left.append(digit)\n",
    "                guess_left.append(guess[i])\n",
    "            \n",
    "        assert len(code_left) == len(guess_left)\n",
    "\n",
    "        if len(code_left)>0:\n",
    "            # check for correct digit in wrong place\n",
    "            for digit in code_left:\n",
    "                if digit in guess_left:\n",
    "                    wrongpos += 1\n",
    "                    guess_left.remove(digit) # removes only one occurrence\n",
    "        \n",
    "        return (corpos, wrongpos)\n",
    "\n",
    "    def guess_code(self, guess):\n",
    "        '''Entry method to process guess, with a check to see if number of guesses has\n",
    "        been exceeded, or code guessed correctly.\n",
    "        \n",
    "        If game is over, self.gameover is set to True.\n",
    "        \n",
    "        Returns: a tuple - (number of characters in the correct position,\n",
    "                            number of characters in the wrong position but elsewhere in code); \n",
    "                  None if there was an error in the guess; or\n",
    "                  -1 if game is over'''\n",
    "\n",
    "        if not self.gameover:\n",
    "            try:\n",
    "                assert self._codeOK(guess)\n",
    "                self.n_guessed += 1\n",
    "                if not self._nooutput:\n",
    "                    print \"guess #\" + str(self.n_guessed) + \" of \" + str(self._N_iters) + \": you guessed \", guess \n",
    "                    sys.stdout.flush()\n",
    "            except:\n",
    "                if not self._nooutput:\n",
    "                    print \"  [Error] please enter a list of %i integers from 0 to %i. try again\" % (self._L, self._C - 1)\n",
    "                return None\n",
    "        \n",
    "            # get response\n",
    "            b, w = self.check_guess(guess=guess, answer=self._code)\n",
    "            assert (b + w) <= self._L\n",
    "\n",
    "            if b == self._L:\n",
    "                if not self._nooutput:\n",
    "                    print \"You have %i right item(s) in the right place\" % b\n",
    "                    print \"You win!\"\n",
    "                self.gameover = True\n",
    "                return (b, w)\n",
    "            \n",
    "            if not self._nooutput:                \n",
    "                print \"You have %i right item(s) in the right place, and\" % b\n",
    "                print \"  %i right item(s) but in the wrong place\\n\" % w \n",
    "            \n",
    "            if self.n_guessed == self._N_iters:\n",
    "                if not self._nooutput:\n",
    "                    print \"Game over. The correct code was\", self._code  \n",
    "                self.gameover = True\n",
    "\n",
    "            return (b, w)\n",
    "        \n",
    "        # else\n",
    "        return -1  # game already over"
   ]
  },
  {
   "cell_type": "code",
   "execution_count": 237,
   "metadata": {
    "collapsed": false
   },
   "outputs": [],
   "source": [
    "a = MMboard()\n",
    "# a = MMboard(suppress_output=True)"
   ]
  },
  {
   "cell_type": "code",
   "execution_count": 238,
   "metadata": {
    "collapsed": false
   },
   "outputs": [
    {
     "name": "stdout",
     "output_type": "stream",
     "text": [
      "Code successfully initialized to  [2 1 4 4] \n",
      "\n"
     ]
    }
   ],
   "source": [
    "a.set_code([2, 1, 4, 4])"
   ]
  },
  {
   "cell_type": "code",
   "execution_count": 239,
   "metadata": {
    "collapsed": false
   },
   "outputs": [
    {
     "name": "stdout",
     "output_type": "stream",
     "text": [
      "guess #1 of 10: you guessed  [0, 1, 2, 4]\n",
      "You have 2 right item(s) in the right place, and\n",
      "  1 right item(s) but in the wrong place\n",
      "\n"
     ]
    },
    {
     "data": {
      "text/plain": [
       "(2, 1)"
      ]
     },
     "execution_count": 239,
     "metadata": {},
     "output_type": "execute_result"
    }
   ],
   "source": [
    "a.guess_code([0, 1, 2, 4])"
   ]
  },
  {
   "cell_type": "code",
   "execution_count": 240,
   "metadata": {
    "collapsed": false
   },
   "outputs": [
    {
     "name": "stdout",
     "output_type": "stream",
     "text": [
      "guess #2 of 10: you guessed  [0, 3, 2, 4]\n",
      "You have 1 right item(s) in the right place, and\n",
      "  1 right item(s) but in the wrong place\n",
      "\n"
     ]
    },
    {
     "data": {
      "text/plain": [
       "(1, 1)"
      ]
     },
     "execution_count": 240,
     "metadata": {},
     "output_type": "execute_result"
    }
   ],
   "source": [
    "a.guess_code([0, 3, 2, 4])"
   ]
  },
  {
   "cell_type": "code",
   "execution_count": 241,
   "metadata": {
    "collapsed": false
   },
   "outputs": [
    {
     "name": "stdout",
     "output_type": "stream",
     "text": [
      "  [Error] please enter a list of 4 integers from 0 to 5. try again\n"
     ]
    }
   ],
   "source": [
    "a.guess_code([0, 3, 2, 9])"
   ]
  },
  {
   "cell_type": "code",
   "execution_count": 242,
   "metadata": {
    "collapsed": false
   },
   "outputs": [
    {
     "name": "stdout",
     "output_type": "stream",
     "text": [
      "guess #3 of 10: you guessed  [1, 1, 1, 1]\n",
      "You have 1 right item(s) in the right place, and\n",
      "  0 right item(s) but in the wrong place\n",
      "\n"
     ]
    },
    {
     "data": {
      "text/plain": [
       "(1, 0)"
      ]
     },
     "execution_count": 242,
     "metadata": {},
     "output_type": "execute_result"
    }
   ],
   "source": [
    "a.guess_code([1, 1, 1, 1])"
   ]
  },
  {
   "cell_type": "code",
   "execution_count": 243,
   "metadata": {
    "collapsed": false
   },
   "outputs": [
    {
     "name": "stdout",
     "output_type": "stream",
     "text": [
      "guess #4 of 10: you guessed  [4, 4, 4, 4]\n",
      "You have 2 right item(s) in the right place, and\n",
      "  0 right item(s) but in the wrong place\n",
      "\n"
     ]
    },
    {
     "data": {
      "text/plain": [
       "(2, 0)"
      ]
     },
     "execution_count": 243,
     "metadata": {},
     "output_type": "execute_result"
    }
   ],
   "source": [
    "a.guess_code([4, 4, 4, 4])"
   ]
  },
  {
   "cell_type": "code",
   "execution_count": 244,
   "metadata": {
    "collapsed": false
   },
   "outputs": [
    {
     "name": "stdout",
     "output_type": "stream",
     "text": [
      "guess #5 of 10: you guessed  [1, 2, 4, 4]\n",
      "You have 2 right item(s) in the right place, and\n",
      "  2 right item(s) but in the wrong place\n",
      "\n"
     ]
    },
    {
     "data": {
      "text/plain": [
       "(2, 2)"
      ]
     },
     "execution_count": 244,
     "metadata": {},
     "output_type": "execute_result"
    }
   ],
   "source": [
    "a.guess_code([1, 2, 4, 4])"
   ]
  },
  {
   "cell_type": "code",
   "execution_count": 245,
   "metadata": {
    "collapsed": false
   },
   "outputs": [
    {
     "name": "stdout",
     "output_type": "stream",
     "text": [
      "guess #6 of 10: you guessed  [2, 1, 4, 4]\n",
      "You have 4 right item(s) in the right place\n",
      "You win!\n"
     ]
    },
    {
     "data": {
      "text/plain": [
       "(4, 0)"
      ]
     },
     "execution_count": 245,
     "metadata": {},
     "output_type": "execute_result"
    }
   ],
   "source": [
    "a.guess_code([2, 1, 4, 4])"
   ]
  },
  {
   "cell_type": "code",
   "execution_count": 246,
   "metadata": {
    "collapsed": false
   },
   "outputs": [
    {
     "data": {
      "text/plain": [
       "-1"
      ]
     },
     "execution_count": 246,
     "metadata": {},
     "output_type": "execute_result"
    }
   ],
   "source": [
    "a.guess_code([1, 1, 4, 4]) # game already over"
   ]
  },
  {
   "cell_type": "code",
   "execution_count": null,
   "metadata": {
    "collapsed": true
   },
   "outputs": [],
   "source": []
  },
  {
   "cell_type": "code",
   "execution_count": 247,
   "metadata": {
    "collapsed": false
   },
   "outputs": [
    {
     "name": "stdout",
     "output_type": "stream",
     "text": [
      "Code successfully initialized to  [1 1 3 3] \n",
      "\n"
     ]
    }
   ],
   "source": [
    "a.set_code([1, 1, 3, 3])"
   ]
  },
  {
   "cell_type": "code",
   "execution_count": 248,
   "metadata": {
    "collapsed": false
   },
   "outputs": [
    {
     "name": "stdout",
     "output_type": "stream",
     "text": [
      "guess #1 of 10: you guessed  [0, 0, 0, 0]\n",
      "You have 0 right item(s) in the right place, and\n",
      "  0 right item(s) but in the wrong place\n",
      "\n"
     ]
    },
    {
     "data": {
      "text/plain": [
       "(0, 0)"
      ]
     },
     "execution_count": 248,
     "metadata": {},
     "output_type": "execute_result"
    }
   ],
   "source": [
    "a.guess_code([0, 0, 0, 0])"
   ]
  },
  {
   "cell_type": "code",
   "execution_count": 249,
   "metadata": {
    "collapsed": false
   },
   "outputs": [
    {
     "name": "stdout",
     "output_type": "stream",
     "text": [
      "guess #2 of 10: you guessed  [0, 0, 0, 0]\n",
      "You have 0 right item(s) in the right place, and\n",
      "  0 right item(s) but in the wrong place\n",
      "\n",
      "guess #3 of 10: you guessed  [0, 0, 0, 0]\n",
      "You have 0 right item(s) in the right place, and\n",
      "  0 right item(s) but in the wrong place\n",
      "\n",
      "guess #4 of 10: you guessed  [0, 0, 0, 0]\n",
      "You have 0 right item(s) in the right place, and\n",
      "  0 right item(s) but in the wrong place\n",
      "\n",
      "guess #5 of 10: you guessed  [0, 0, 0, 0]\n",
      "You have 0 right item(s) in the right place, and\n",
      "  0 right item(s) but in the wrong place\n",
      "\n",
      "guess #6 of 10: you guessed  [0, 0, 0, 0]\n",
      "You have 0 right item(s) in the right place, and\n",
      "  0 right item(s) but in the wrong place\n",
      "\n",
      "guess #7 of 10: you guessed  [0, 0, 0, 0]\n",
      "You have 0 right item(s) in the right place, and\n",
      "  0 right item(s) but in the wrong place\n",
      "\n",
      "guess #8 of 10: you guessed  [0, 0, 0, 0]\n",
      "You have 0 right item(s) in the right place, and\n",
      "  0 right item(s) but in the wrong place\n",
      "\n",
      "guess #9 of 10: you guessed  [0, 0, 0, 0]\n",
      "You have 0 right item(s) in the right place, and\n",
      "  0 right item(s) but in the wrong place\n",
      "\n",
      "guess #10 of 10: you guessed  [0, 0, 0, 0]\n",
      "You have 0 right item(s) in the right place, and\n",
      "  0 right item(s) but in the wrong place\n",
      "\n",
      "Game over. The correct code was [1 1 3 3]\n"
     ]
    },
    {
     "data": {
      "text/plain": [
       "(0, 0)"
      ]
     },
     "execution_count": 249,
     "metadata": {},
     "output_type": "execute_result"
    }
   ],
   "source": [
    "a.guess_code([0, 0, 0, 0])\n",
    "a.guess_code([0, 0, 0, 0])\n",
    "a.guess_code([0, 0, 0, 0])\n",
    "a.guess_code([0, 0, 0, 0])\n",
    "a.guess_code([0, 0, 0, 0])\n",
    "a.guess_code([0, 0, 0, 0])\n",
    "a.guess_code([0, 0, 0, 0])\n",
    "a.guess_code([0, 0, 0, 0])\n",
    "a.guess_code([0, 0, 0, 0])"
   ]
  },
  {
   "cell_type": "code",
   "execution_count": 250,
   "metadata": {
    "collapsed": false
   },
   "outputs": [
    {
     "data": {
      "text/plain": [
       "-1"
      ]
     },
     "execution_count": 250,
     "metadata": {},
     "output_type": "execute_result"
    }
   ],
   "source": [
    "a.guess_code([0, 0, 0, 0])"
   ]
  },
  {
   "cell_type": "code",
   "execution_count": null,
   "metadata": {
    "collapsed": true
   },
   "outputs": [],
   "source": []
  },
  {
   "cell_type": "code",
   "execution_count": 244,
   "metadata": {
    "collapsed": false
   },
   "outputs": [
    {
     "name": "stdout",
     "output_type": "stream",
     "text": [
      "Code successfully initialized. Good luck.\n"
     ]
    }
   ],
   "source": [
    "b = MMboard()\n",
    "b.set_code(showcode=False)"
   ]
  },
  {
   "cell_type": "code",
   "execution_count": 245,
   "metadata": {
    "collapsed": false
   },
   "outputs": [
    {
     "name": "stdout",
     "output_type": "stream",
     "text": [
      "guess #1 of 10: you guessed  [0, 0, 0, 0]\n",
      "you have 0 right item(s) in the right place, and 0 right item(s) but in the wrong place\n"
     ]
    }
   ],
   "source": [
    "b.guess_code([0, 0, 0, 0])"
   ]
  },
  {
   "cell_type": "code",
   "execution_count": 246,
   "metadata": {
    "collapsed": false
   },
   "outputs": [
    {
     "name": "stdout",
     "output_type": "stream",
     "text": [
      "guess #2 of 10: you guessed  [1, 1, 1, 1]\n",
      "you have 1 right item(s) in the right place, and 0 right item(s) but in the wrong place\n"
     ]
    }
   ],
   "source": [
    "b.guess_code([1, 1, 1, 1])"
   ]
  },
  {
   "cell_type": "code",
   "execution_count": 247,
   "metadata": {
    "collapsed": false
   },
   "outputs": [
    {
     "name": "stdout",
     "output_type": "stream",
     "text": [
      "guess #3 of 10: you guessed  [2, 2, 2, 2]\n",
      "you have 2 right item(s) in the right place, and 0 right item(s) but in the wrong place\n"
     ]
    }
   ],
   "source": [
    "b.guess_code([2, 2, 2, 2])"
   ]
  },
  {
   "cell_type": "code",
   "execution_count": 248,
   "metadata": {
    "collapsed": false
   },
   "outputs": [
    {
     "name": "stdout",
     "output_type": "stream",
     "text": [
      "guess #4 of 10: you guessed  [3, 3, 3, 3]\n",
      "you have 0 right item(s) in the right place, and 0 right item(s) but in the wrong place\n"
     ]
    }
   ],
   "source": [
    "b.guess_code([3, 3, 3, 3])"
   ]
  },
  {
   "cell_type": "code",
   "execution_count": 249,
   "metadata": {
    "collapsed": false
   },
   "outputs": [
    {
     "name": "stdout",
     "output_type": "stream",
     "text": [
      "guess #5 of 10: you guessed  [4, 4, 4, 4]\n",
      "you have 0 right item(s) in the right place, and 0 right item(s) but in the wrong place\n"
     ]
    }
   ],
   "source": [
    "b.guess_code([4, 4, 4, 4])"
   ]
  },
  {
   "cell_type": "code",
   "execution_count": 250,
   "metadata": {
    "collapsed": false
   },
   "outputs": [
    {
     "name": "stdout",
     "output_type": "stream",
     "text": [
      "guess #6 of 10: you guessed  [1, 2, 2, 5]\n",
      "you have 1 right item(s) in the right place, and 3 right item(s) but in the wrong place\n"
     ]
    }
   ],
   "source": [
    "b.guess_code([1, 2, 2, 5])"
   ]
  },
  {
   "cell_type": "code",
   "execution_count": 251,
   "metadata": {
    "collapsed": false
   },
   "outputs": [
    {
     "name": "stdout",
     "output_type": "stream",
     "text": [
      "guess #7 of 10: you guessed  [5, 1, 2, 2]\n",
      "you have 2 right item(s) in the right place, and 2 right item(s) but in the wrong place\n"
     ]
    }
   ],
   "source": [
    "b.guess_code([5, 1, 2, 2])"
   ]
  },
  {
   "cell_type": "code",
   "execution_count": 252,
   "metadata": {
    "collapsed": false
   },
   "outputs": [
    {
     "name": "stdout",
     "output_type": "stream",
     "text": [
      "guess #8 of 10: you guessed  [5, 2, 1, 2]\n",
      "you have 4 right item(s) in the right place, and 0 right item(s) but in the wrong place\n",
      "You win!\n"
     ]
    }
   ],
   "source": [
    "b.guess_code([5, 2, 1, 2])"
   ]
  },
  {
   "cell_type": "markdown",
   "metadata": {},
   "source": [
    "## Knuth's Algorithm (baseline)"
   ]
  },
  {
   "cell_type": "code",
   "execution_count": 275,
   "metadata": {
    "collapsed": true
   },
   "outputs": [],
   "source": [
    "def knuth(cl=4, nc=6, silent=False):\n",
    "    # implements Knuth's Five-Guess Algorithm\n",
    "    # expanded for arbitrary code lengths and alphabet\n",
    "    # https://en.wikipedia.org/wiki/Mastermind_(board_game)\n",
    "    # NOTE: we are using a 0-index\n",
    "\n",
    "    k = MMboard(codelength=cl, numcolors=nc, suppress_output=silent)\n",
    "    k.set_code()\n",
    "    \n",
    "    n_guesses = 0\n",
    "    \n",
    "    # 1. Create the set S of 1296 possible codes (1111, 1112 ... 6665, 6666)\n",
    "    S = {}  # index is the string sequence, value is a cl-element tuple\n",
    "    digits = list(np.arange(nc))\n",
    "    for i in itertools.product(digits, repeat=cl):\n",
    "        S[''.join(map(str, list(i)))] = list(i) \n",
    "    assert len(S) == nc**cl\n",
    "    \n",
    "    possible_guesses = S.copy()  # keep track of list of possible guesses\n",
    "\n",
    "    # 2. Start with initial guess 1122    \n",
    "    assert nc >= 2\n",
    "    if cl==4:\n",
    "        knuth_guess = [0, 0, 1, 1]  # 0-indexed\n",
    "    else:\n",
    "        knuth_guess = list(np.random.randint(0, nc, cl)) # n.b. random choice may be suboptimal\n",
    "\n",
    "    # 7. loop\n",
    "    while True:\n",
    "        # this is not an infinite loop - \n",
    "        # maximum iterations governed by max number of possible guesses\n",
    "        \n",
    "        # delete current guess from possible guesses\n",
    "        del possible_guesses[''.join(map(str, knuth_guess))]\n",
    "        \n",
    "        # 3. Play the guess to get a response of colored (b) and white pegs.\n",
    "        response = k.guess_code(knuth_guess)\n",
    "        n_guesses += 1\n",
    "\n",
    "        # 4. If the response is four colored pegs, the game is won, the algorithm terminates.\n",
    "        #    If maximum number of tries reached, the algorithm terminates.\n",
    "        if ((response is not None) and response[0]==cl) or k.gameover:\n",
    "            return n_guesses\n",
    "        \n",
    "        # 5. Otherwise, remove from S any code that would not give the same response \n",
    "        #    if it (the guess) were the code.\n",
    "        # print \"number of keys to check:\", len(S)\n",
    "        for code in S.keys():\n",
    "            # Uses classes built-in check_guess function\n",
    "            temp = k.check_guess(guess=S[code], answer=knuth_guess)\n",
    "            if temp!=response:\n",
    "                # print \"deleted\", S[code]\n",
    "                del S[code]\n",
    "        # print \"number of keys left to check:\", len(S)\n",
    "\n",
    "        # 6. For each possible guess, that is, any unused code of the 1296 not just those in S, \n",
    "        #    calculate how many possibilities in S would be eliminated for each possible \n",
    "        #    colored/white peg score. The score of a guess is the minimum number of possibilities \n",
    "        #    it might eliminate from S. A single pass through S for each unused code of the 1296 \n",
    "        #    will provide a hit count for each colored/white peg score found; the colored/white \n",
    "        #    peg score with the highest hit count will eliminate the fewest possibilities;\n",
    "        #    calculate the score of a guess by using \n",
    "        #      \"minimum eliminated\" = \"count of elements in S\" - \"highest hit count\". \n",
    "        #    From the set of guesses with the maximum score, select one as the next guess, \n",
    "        #    choosing a member of S whenever possible.\n",
    "\n",
    "        if len(S)==1:\n",
    "            knuth_guess = S.values()[0]\n",
    "            # print ''.join(map(str, knuth_guess)) in S\n",
    "        else:\n",
    "            # use of collection counter\n",
    "            # inspired by http://stackoverflow.com/questions/20298190/mastermind-minimax-algorithm\n",
    "            key = lambda g: max(Counter(k.check_guess(g, item) for item in S.values()).values())               \n",
    "            # secondary sort by choosing member of S\n",
    "            # inspired by https://docs.python.org/2/howto/sorting.html\n",
    "            secondary_sort = sorted(possible_guesses.values(), key=lambda x: x not in S.values())\n",
    "            knuth_guess = min(secondary_sort, key=key)\n",
    "            \n",
    "            # print ''.join(map(str, knuth_guess)) in S\n",
    "\n",
    "        # print \"next guess\", knuth_guess"
   ]
  },
  {
   "cell_type": "code",
   "execution_count": 272,
   "metadata": {
    "collapsed": false
   },
   "outputs": [
    {
     "name": "stdout",
     "output_type": "stream",
     "text": [
      "Code successfully initialized to  [2 3 4 0] \n",
      "\n",
      "guess #1 of 10: you guessed  [0, 0, 1, 1]\n",
      "You have 0 right item(s) in the right place, and\n",
      "  1 right item(s) but in the wrong place\n",
      "\n",
      "guess #2 of 10: you guessed  [4, 4, 2, 0]\n",
      "You have 1 right item(s) in the right place, and\n",
      "  2 right item(s) but in the wrong place\n",
      "\n",
      "guess #3 of 10: you guessed  [4, 3, 0, 2]\n",
      "You have 1 right item(s) in the right place, and\n",
      "  3 right item(s) but in the wrong place\n",
      "\n",
      "guess #4 of 10: you guessed  [2, 3, 4, 0]\n",
      "You have 4 right item(s) in the right place\n",
      "You win!\n"
     ]
    },
    {
     "data": {
      "text/plain": [
       "4"
      ]
     },
     "execution_count": 272,
     "metadata": {},
     "output_type": "execute_result"
    }
   ],
   "source": [
    "knuth()"
   ]
  },
  {
   "cell_type": "code",
   "execution_count": 281,
   "metadata": {
    "collapsed": false
   },
   "outputs": [
    {
     "name": "stdout",
     "output_type": "stream",
     "text": [
      "Code successfully initialized to  [7 3 0 2] \n",
      "\n",
      "guess #1 of 10: you guessed  [0, 0, 1, 1]\n",
      "You have 0 right item(s) in the right place, and\n",
      "  1 right item(s) but in the wrong place\n",
      "\n",
      "guess #2 of 10: you guessed  [2, 1, 4, 0]\n",
      "You have 0 right item(s) in the right place, and\n",
      "  2 right item(s) but in the wrong place\n",
      "\n",
      "guess #3 of 10: you guessed  [5, 6, 0, 4]\n",
      "You have 1 right item(s) in the right place, and\n",
      "  0 right item(s) but in the wrong place\n",
      "\n",
      "guess #4 of 10: you guessed  [8, 0, 3, 2]\n",
      "You have 1 right item(s) in the right place, and\n",
      "  2 right item(s) but in the wrong place\n",
      "\n",
      "guess #5 of 10: you guessed  [3, 2, 7, 7]\n",
      "You have 0 right item(s) in the right place, and\n",
      "  3 right item(s) but in the wrong place\n",
      "\n",
      "guess #6 of 10: you guessed  [7, 3, 0, 2]\n",
      "You have 4 right item(s) in the right place\n",
      "You win!\n"
     ]
    },
    {
     "data": {
      "text/plain": [
       "6"
      ]
     },
     "execution_count": 281,
     "metadata": {},
     "output_type": "execute_result"
    }
   ],
   "source": [
    "knuth(nc=10, cl=4) # 10 colors, code length 4"
   ]
  },
  {
   "cell_type": "code",
   "execution_count": 284,
   "metadata": {
    "collapsed": false
   },
   "outputs": [],
   "source": [
    "import time\n",
    "N_sims = 10\n",
    "\n",
    "alphabet = [2, 4, 6, 8, 10]  # number of possible `colors` per position\n",
    "mean_guesses = np.zeros(len(alphabet))\n",
    "mean_times = np.zeros(len(alphabet))\n",
    "\n",
    "for j, a in enumerate(alphabet):\n",
    "    simguesses = np.zeros(N_sims)\n",
    "    simtimes = np.zeros(N_sims)\n",
    "    for i in xrange(N_sims):\n",
    "        start = time.time()\n",
    "        simguesses[i] = knuth(nc=a, silent=True)\n",
    "        simtimes[i] = time.time() - start\n",
    "\n",
    "    mean_guesses[j] = np.mean(simguesses)\n",
    "    mean_times[j] = np.mean(simtimes)"
   ]
  },
  {
   "cell_type": "code",
   "execution_count": 285,
   "metadata": {
    "collapsed": false
   },
   "outputs": [
    {
     "data": {
      "text/plain": [
       "array([  8.61668587e-04,   3.87444496e-02,   1.07932272e+00,\n",
       "         1.53864245e+01,   1.22476159e+02])"
      ]
     },
     "execution_count": 285,
     "metadata": {},
     "output_type": "execute_result"
    }
   ],
   "source": [
    "mean_times"
   ]
  },
  {
   "cell_type": "code",
   "execution_count": 286,
   "metadata": {
    "collapsed": false
   },
   "outputs": [
    {
     "data": {
      "text/plain": [
       "array([ 3.2,  3.9,  4.6,  5.3,  6.1])"
      ]
     },
     "execution_count": 286,
     "metadata": {},
     "output_type": "execute_result"
    }
   ],
   "source": [
    "mean_guesses"
   ]
  },
  {
   "cell_type": "code",
   "execution_count": 291,
   "metadata": {
    "collapsed": false
   },
   "outputs": [
    {
     "data": {
      "image/png": "[encoded data removed]",
      "text/plain": [
       "<matplotlib.figure.Figure at 0x19bdf7090>"
      ]
     },
     "metadata": {},
     "output_type": "display_data"
    }
   ],
   "source": [
    "plt.xticks(range(len(alphabet)), alphabet)\n",
    "plt.plot(mean_guesses);"
   ]
  },
  {
   "cell_type": "code",
   "execution_count": 292,
   "metadata": {
    "collapsed": false
   },
   "outputs": [
    {
     "data": {
      "image/png": "[encoded data removed]",
      "text/plain": [
       "<matplotlib.figure.Figure at 0x19bdf73d0>"
      ]
     },
     "metadata": {},
     "output_type": "display_data"
    }
   ],
   "source": [
    "plt.xticks(range(len(alphabet)), alphabet)\n",
    "plt.plot(mean_times);"
   ]
  },
  {
   "cell_type": "markdown",
   "metadata": {},
   "source": [
    "times grow exponentially with number of colors"
   ]
  },
  {
   "cell_type": "code",
   "execution_count": 296,
   "metadata": {
    "collapsed": false
   },
   "outputs": [
    {
     "name": "stdout",
     "output_type": "stream",
     "text": [
      "0\n",
      "1\n",
      "2\n"
     ]
    },
    {
     "ename": "KeyboardInterrupt",
     "evalue": "",
     "output_type": "error",
     "traceback": [
      "\u001b[0;31m---------------------------------------------------------------------------\u001b[0m",
      "\u001b[0;31mKeyboardInterrupt\u001b[0m                         Traceback (most recent call last)",
      "\u001b[0;32m<ipython-input-296-f7e9c6e2fe83>\u001b[0m in \u001b[0;36m<module>\u001b[0;34m()\u001b[0m\n\u001b[1;32m     11\u001b[0m     \u001b[0;32mfor\u001b[0m \u001b[0mi\u001b[0m \u001b[0;32min\u001b[0m \u001b[0mxrange\u001b[0m\u001b[0;34m(\u001b[0m\u001b[0mN_sims\u001b[0m\u001b[0;34m)\u001b[0m\u001b[0;34m:\u001b[0m\u001b[0;34m\u001b[0m\u001b[0m\n\u001b[1;32m     12\u001b[0m         \u001b[0mstart\u001b[0m \u001b[0;34m=\u001b[0m \u001b[0mtime\u001b[0m\u001b[0;34m.\u001b[0m\u001b[0mtime\u001b[0m\u001b[0;34m(\u001b[0m\u001b[0;34m)\u001b[0m\u001b[0;34m\u001b[0m\u001b[0m\n\u001b[0;32m---> 13\u001b[0;31m         \u001b[0msimguesses\u001b[0m\u001b[0;34m[\u001b[0m\u001b[0mi\u001b[0m\u001b[0;34m]\u001b[0m \u001b[0;34m=\u001b[0m \u001b[0mknuth\u001b[0m\u001b[0;34m(\u001b[0m\u001b[0mcl\u001b[0m\u001b[0;34m=\u001b[0m\u001b[0ma\u001b[0m\u001b[0;34m,\u001b[0m \u001b[0msilent\u001b[0m\u001b[0;34m=\u001b[0m\u001b[0mTrue\u001b[0m\u001b[0;34m)\u001b[0m\u001b[0;34m\u001b[0m\u001b[0m\n\u001b[0m\u001b[1;32m     14\u001b[0m         \u001b[0msimtimes\u001b[0m\u001b[0;34m[\u001b[0m\u001b[0mi\u001b[0m\u001b[0;34m]\u001b[0m \u001b[0;34m=\u001b[0m \u001b[0mtime\u001b[0m\u001b[0;34m.\u001b[0m\u001b[0mtime\u001b[0m\u001b[0;34m(\u001b[0m\u001b[0;34m)\u001b[0m \u001b[0;34m-\u001b[0m \u001b[0mstart\u001b[0m\u001b[0;34m\u001b[0m\u001b[0m\n\u001b[1;32m     15\u001b[0m \u001b[0;34m\u001b[0m\u001b[0m\n",
      "\u001b[0;32m<ipython-input-275-435ae6e35737>\u001b[0m in \u001b[0;36mknuth\u001b[0;34m(cl, nc, silent)\u001b[0m\n\u001b[1;32m     74\u001b[0m             \u001b[0;31m# secondary sort by choosing member of S\u001b[0m\u001b[0;34m\u001b[0m\u001b[0;34m\u001b[0m\u001b[0m\n\u001b[1;32m     75\u001b[0m             \u001b[0;31m# inspired by https://docs.python.org/2/howto/sorting.html\u001b[0m\u001b[0;34m\u001b[0m\u001b[0;34m\u001b[0m\u001b[0m\n\u001b[0;32m---> 76\u001b[0;31m             \u001b[0msecondary_sort\u001b[0m \u001b[0;34m=\u001b[0m \u001b[0msorted\u001b[0m\u001b[0;34m(\u001b[0m\u001b[0mpossible_guesses\u001b[0m\u001b[0;34m.\u001b[0m\u001b[0mvalues\u001b[0m\u001b[0;34m(\u001b[0m\u001b[0;34m)\u001b[0m\u001b[0;34m,\u001b[0m \u001b[0mkey\u001b[0m\u001b[0;34m=\u001b[0m\u001b[0;32mlambda\u001b[0m \u001b[0mx\u001b[0m\u001b[0;34m:\u001b[0m \u001b[0mx\u001b[0m \u001b[0;32mnot\u001b[0m \u001b[0;32min\u001b[0m \u001b[0mS\u001b[0m\u001b[0;34m.\u001b[0m\u001b[0mvalues\u001b[0m\u001b[0;34m(\u001b[0m\u001b[0;34m)\u001b[0m\u001b[0;34m)\u001b[0m\u001b[0;34m\u001b[0m\u001b[0m\n\u001b[0m\u001b[1;32m     77\u001b[0m             \u001b[0mknuth_guess\u001b[0m \u001b[0;34m=\u001b[0m \u001b[0mmin\u001b[0m\u001b[0;34m(\u001b[0m\u001b[0msecondary_sort\u001b[0m\u001b[0;34m,\u001b[0m \u001b[0mkey\u001b[0m\u001b[0;34m=\u001b[0m\u001b[0mkey\u001b[0m\u001b[0;34m)\u001b[0m\u001b[0;34m\u001b[0m\u001b[0m\n\u001b[1;32m     78\u001b[0m \u001b[0;34m\u001b[0m\u001b[0m\n",
      "\u001b[0;32m<ipython-input-275-435ae6e35737>\u001b[0m in \u001b[0;36m<lambda>\u001b[0;34m(x)\u001b[0m\n\u001b[1;32m     74\u001b[0m             \u001b[0;31m# secondary sort by choosing member of S\u001b[0m\u001b[0;34m\u001b[0m\u001b[0;34m\u001b[0m\u001b[0m\n\u001b[1;32m     75\u001b[0m             \u001b[0;31m# inspired by https://docs.python.org/2/howto/sorting.html\u001b[0m\u001b[0;34m\u001b[0m\u001b[0;34m\u001b[0m\u001b[0m\n\u001b[0;32m---> 76\u001b[0;31m             \u001b[0msecondary_sort\u001b[0m \u001b[0;34m=\u001b[0m \u001b[0msorted\u001b[0m\u001b[0;34m(\u001b[0m\u001b[0mpossible_guesses\u001b[0m\u001b[0;34m.\u001b[0m\u001b[0mvalues\u001b[0m\u001b[0;34m(\u001b[0m\u001b[0;34m)\u001b[0m\u001b[0;34m,\u001b[0m \u001b[0mkey\u001b[0m\u001b[0;34m=\u001b[0m\u001b[0;32mlambda\u001b[0m \u001b[0mx\u001b[0m\u001b[0;34m:\u001b[0m \u001b[0mx\u001b[0m \u001b[0;32mnot\u001b[0m \u001b[0;32min\u001b[0m \u001b[0mS\u001b[0m\u001b[0;34m.\u001b[0m\u001b[0mvalues\u001b[0m\u001b[0;34m(\u001b[0m\u001b[0;34m)\u001b[0m\u001b[0;34m)\u001b[0m\u001b[0;34m\u001b[0m\u001b[0m\n\u001b[0m\u001b[1;32m     77\u001b[0m             \u001b[0mknuth_guess\u001b[0m \u001b[0;34m=\u001b[0m \u001b[0mmin\u001b[0m\u001b[0;34m(\u001b[0m\u001b[0msecondary_sort\u001b[0m\u001b[0;34m,\u001b[0m \u001b[0mkey\u001b[0m\u001b[0;34m=\u001b[0m\u001b[0mkey\u001b[0m\u001b[0;34m)\u001b[0m\u001b[0;34m\u001b[0m\u001b[0m\n\u001b[1;32m     78\u001b[0m \u001b[0;34m\u001b[0m\u001b[0m\n",
      "\u001b[0;31mKeyboardInterrupt\u001b[0m: "
     ]
    }
   ],
   "source": [
    "N_sims = 3\n",
    "\n",
    "lengths = [2, 4, 6, 8, 10]  # number of possible code lengths\n",
    "mean_guesses = np.zeros(len(lengths))\n",
    "mean_times = np.zeros(len(lengths))\n",
    "\n",
    "for j, a in enumerate(lengths):\n",
    "    print j\n",
    "    simguesses = np.zeros(N_sims)\n",
    "    simtimes = np.zeros(N_sims)\n",
    "    for i in xrange(N_sims):\n",
    "        start = time.time()\n",
    "        simguesses[i] = knuth(cl=a, silent=True)\n",
    "        simtimes[i] = time.time() - start\n",
    "\n",
    "    mean_guesses[j] = np.mean(simguesses)\n",
    "    mean_times[j] = np.mean(simtimes)"
   ]
  },
  {
   "cell_type": "code",
   "execution_count": 297,
   "metadata": {
    "collapsed": false
   },
   "outputs": [
    {
     "data": {
      "text/plain": [
       "array([ 3.33333333,  4.33333333,  0.        ,  0.        ,  0.        ])"
      ]
     },
     "execution_count": 297,
     "metadata": {},
     "output_type": "execute_result"
    }
   ],
   "source": [
    "mean_guesses"
   ]
  },
  {
   "cell_type": "code",
   "execution_count": 298,
   "metadata": {
    "collapsed": false
   },
   "outputs": [
    {
     "data": {
      "text/plain": [
       "array([ 0.00597239,  1.33273959,  0.        ,  0.        ,  0.        ])"
      ]
     },
     "execution_count": 298,
     "metadata": {},
     "output_type": "execute_result"
    }
   ],
   "source": [
    "mean_times"
   ]
  },
  {
   "cell_type": "code",
   "execution_count": 299,
   "metadata": {
    "collapsed": false
   },
   "outputs": [
    {
     "data": {
      "image/png": "[encoded data removed]",
      "text/plain": [
       "<matplotlib.figure.Figure at 0x112010c90>"
      ]
     },
     "metadata": {},
     "output_type": "display_data"
    }
   ],
   "source": [
    "plt.xticks(range(len(lengths)), lengths)\n",
    "plt.plot(mean_guesses);"
   ]
  },
  {
   "cell_type": "code",
   "execution_count": 300,
   "metadata": {
    "collapsed": false
   },
   "outputs": [
    {
     "data": {
      "image/png": "[encoded data removed]",
      "text/plain": [
       "<matplotlib.figure.Figure at 0x19c58b790>"
      ]
     },
     "metadata": {},
     "output_type": "display_data"
    }
   ],
   "source": [
    "plt.xticks(range(len(lengths)), lengths)\n",
    "plt.plot(mean_times);"
   ]
  },
  {
   "cell_type": "markdown",
   "metadata": {},
   "source": [
    "problem blows up with longer lengths"
   ]
  },
  {
   "cell_type": "code",
   "execution_count": null,
   "metadata": {
    "collapsed": true
   },
   "outputs": [],
   "source": []
  }
 ],
 "metadata": {
  "kernelspec": {
   "display_name": "Python 2",
   "language": "python",
   "name": "python2"
  },
  "language_info": {
   "codemirror_mode": {
    "name": "ipython",
    "version": 2
   },
   "file_extension": ".py",
   "mimetype": "text/x-python",
   "name": "python",
   "nbconvert_exporter": "python",
   "pygments_lexer": "ipython2",
   "version": "2.7.11"
  }
 },
 "nbformat": 4,
 "nbformat_minor": 0
}
