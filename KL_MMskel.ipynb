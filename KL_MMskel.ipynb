{
 "cells": [
  {
   "cell_type": "code",
   "execution_count": 3,
   "metadata": {
    "collapsed": true
   },
   "outputs": [],
   "source": [
    "import numpy as np"
   ]
  },
  {
   "cell_type": "code",
   "execution_count": 49,
   "metadata": {
    "collapsed": false
   },
   "outputs": [],
   "source": [
    "class MMboard:\n",
    "    '''An instance of a MasterMind board.\n",
    "    \n",
    "    The object of the game is to guess the hidden code of length L, \n",
    "    where each code element is any one of C characters. \n",
    "    \n",
    "    In response to a guess of the code, if the code is incorrect,\n",
    "    a response (b, w) is provided; b represents the number of \n",
    "    characters where the correct character is provided in the \n",
    "    correct position, whereas w represents the number of characters\n",
    "    that are in the code but are in the wrong position (i.e. the\n",
    "    number of characters that are actually in the code but are not\n",
    "    in the position guessed). \n",
    "    \n",
    "    The game continues until the correct code is guessed, or until\n",
    "    a predefined number of allowable tries have been exhausted. '''\n",
    "    \n",
    "    def __init__ (self, codelength=4, numcolors=6, maxtries=10, suppress_output=False):\n",
    "        self._L = codelength\n",
    "        self._C = numcolors\n",
    "        self._N_iters = maxtries\n",
    "        self._nooutput = suppress_output\n",
    "        \n",
    "        self._code = np.zeros(self._L)  # contains the code\n",
    "        \n",
    "        self.n_guessed = 0  # number of guesses tried\n",
    "        self.gameover = False\n",
    "    \n",
    "    def _codeOK(self, cc):\n",
    "        '''Helper function to check that inputs for code are in\n",
    "        proper form. '''\n",
    "        \n",
    "        try:\n",
    "            init = np.array([int(item) for item in cc])\n",
    "        except:\n",
    "            raise ValueError('Code not in the form of a list/array of length ' + str(self._L))\n",
    "\n",
    "        if len(init) != self._L:\n",
    "            raise ValueError('Code not of length ' + str(self._L))\n",
    "\n",
    "        if not all(isinstance(item, int) for item in init):\n",
    "            raise ValueError('Each character must be an integer, between 0 and ' + str(self._C - 1))\n",
    "\n",
    "        if not((init >= 0).all() and (init <= self._C - 1).all()):\n",
    "            raise ValueError('Each integer must be between 0 and ' + str(self._C - 1)) \n",
    "        \n",
    "        return True\n",
    "        \n",
    "    def set_code(self, custom=None, showcode=True):\n",
    "        '''Initalize/reset the code.\n",
    "        \n",
    "        Can set the code manually (provide a list or array of length L)\n",
    "        or set one at random (default).\n",
    "        \n",
    "        Example: myboard.set_code([0, 1, 2, 3])\n",
    "        \n",
    "        showcode: whether or not the code being set is displayed\n",
    "        suppress_output: do not print messages\n",
    "        '''\n",
    "        \n",
    "        if (custom is not None) and self._codeOK(custom):  \n",
    "            self._code = np.array([int(item) for item in custom])\n",
    "        else:\n",
    "            self._code = np.random.randint(0, self._C, size=self._L)  # each element is [0, C)\n",
    "        \n",
    "        if showcode and (not self._nooutput):\n",
    "            print \"Code successfully initialized to \", self._code\n",
    "        elif not self._nooutput:\n",
    "            print \"Code successfully initialized. Good luck.\"\n",
    "            \n",
    "        self.n_guessed = 0  # reset guess counter\n",
    "        self.gameover = False\n",
    "        \n",
    "    def _check_guess(self, guess):\n",
    "        '''Process a guess.\n",
    "        \n",
    "        Take a guess in the form of a list of integers, and returns\n",
    "        (number of characters in the correct position,\n",
    "         number of characters in the wrong position but elsewhere in code)\n",
    "        \n",
    "        Example: myboard.guess_code([0, 1, 2, 3])\n",
    "        Returns: (1, 1)  # code is [2 1 4 4] \n",
    "        \n",
    "        Note: None is returned if an error is encountered.'''\n",
    "        \n",
    "        try:\n",
    "            assert self._codeOK(guess)\n",
    "            self.n_guessed += 1\n",
    "            if not self._nooutput:\n",
    "                print \"guess #\" + str(self.n_guessed) + \" of \" + str(self._N_iters) + \": you guessed \", guess     \n",
    "        except:\n",
    "            if not self._nooutput:\n",
    "                print \"  please enter a list of %i integers from 0 to %i. try again\" % (self._L, self._C)\n",
    "            return None\n",
    "        \n",
    "        # counters\n",
    "        corpos = 0  \n",
    "        wrongpos = 0  \n",
    "        # track non-counted characters\n",
    "        code_left = []\n",
    "        guess_left = []\n",
    "       \n",
    "        # check for correct digit in correct place  \n",
    "        for i, digit in enumerate(self._code):            \n",
    "            if digit==guess[i]:\n",
    "                corpos += 1  \n",
    "            else:\n",
    "                code_left.append(digit)\n",
    "                guess_left.append(guess[i])\n",
    "            \n",
    "        assert len(code_left) == len(guess_left)\n",
    "\n",
    "        if len(code_left)>0:\n",
    "            # check for correct digit in wrong place\n",
    "            for digit in code_left:\n",
    "                if digit in guess_left:\n",
    "                    wrongpos += 1\n",
    "                    guess_left.remove(digit) # removes only one occurrence\n",
    "        \n",
    "        if not self._nooutput:                \n",
    "            print \"you have %i right item(s) in the right place, and %i right item(s) but in the wrong place\" % (corpos, wrongpos)         \n",
    "        \n",
    "        return corpos, wrongpos\n",
    "\n",
    "    def guess_code(self, guess):\n",
    "        '''Entry method to process guess, with a check to see if number of guesses has\n",
    "        been exceeded, or code guessed correctly.\n",
    "        \n",
    "        If game is over, self.gameover is set to True.\n",
    "        \n",
    "        Returns: a tuple - (number of characters in the correct position,\n",
    "                            number of characters in the wrong position but elsewhere in code); \n",
    "                  None if there was an error in the guess; or\n",
    "                  -1 if game is over'''\n",
    "        \n",
    "        if not self.gameover:\n",
    "            try:\n",
    "                b, w = self._check_guess(guess)\n",
    "                assert (b + w) <= self._L\n",
    "                \n",
    "                if b == self._L:\n",
    "                    if not self._nooutput:\n",
    "                        print \"You win!\"\n",
    "                    self.gameover = True\n",
    "                elif self.n_guessed == self._N_iters:\n",
    "                    if not self._nooutput:\n",
    "                        print \"Game over. The correct code was\", self._code  \n",
    "                    self.gameover = True\n",
    "                    \n",
    "                return (b, w)\n",
    "            except:\n",
    "                pass  # error in guess\n",
    "                return None\n",
    "        \n",
    "        return -1"
   ]
  },
  {
   "cell_type": "code",
   "execution_count": 73,
   "metadata": {
    "collapsed": false
   },
   "outputs": [],
   "source": [
    "a = MMboard()\n",
    "# a = MMboard(suppress_output=True)"
   ]
  },
  {
   "cell_type": "code",
   "execution_count": 74,
   "metadata": {
    "collapsed": false
   },
   "outputs": [
    {
     "name": "stdout",
     "output_type": "stream",
     "text": [
      "Code successfully initialized to  [2 1 4 4]\n"
     ]
    }
   ],
   "source": [
    "a.set_code([2, 1, 4, 4])"
   ]
  },
  {
   "cell_type": "code",
   "execution_count": 75,
   "metadata": {
    "collapsed": false
   },
   "outputs": [
    {
     "name": "stdout",
     "output_type": "stream",
     "text": [
      "guess #1 of 10: you guessed  [0, 1, 2, 4]\n",
      "you have 2 right item(s) in the right place, and 1 right item(s) but in the wrong place\n"
     ]
    },
    {
     "data": {
      "text/plain": [
       "(2, 1)"
      ]
     },
     "execution_count": 75,
     "metadata": {},
     "output_type": "execute_result"
    }
   ],
   "source": [
    "a.guess_code([0, 1, 2, 4])"
   ]
  },
  {
   "cell_type": "code",
   "execution_count": 76,
   "metadata": {
    "collapsed": false
   },
   "outputs": [
    {
     "name": "stdout",
     "output_type": "stream",
     "text": [
      "guess #2 of 10: you guessed  [0, 3, 2, 4]\n",
      "you have 1 right item(s) in the right place, and 1 right item(s) but in the wrong place\n"
     ]
    },
    {
     "data": {
      "text/plain": [
       "(1, 1)"
      ]
     },
     "execution_count": 76,
     "metadata": {},
     "output_type": "execute_result"
    }
   ],
   "source": [
    "a.guess_code([0, 3, 2, 4])"
   ]
  },
  {
   "cell_type": "code",
   "execution_count": 77,
   "metadata": {
    "collapsed": false
   },
   "outputs": [
    {
     "name": "stdout",
     "output_type": "stream",
     "text": [
      "  please enter a list of 4 integers from 0 to 6. try again\n"
     ]
    }
   ],
   "source": [
    "a.guess_code([0, 3, 2, 9])"
   ]
  },
  {
   "cell_type": "code",
   "execution_count": 78,
   "metadata": {
    "collapsed": false
   },
   "outputs": [
    {
     "name": "stdout",
     "output_type": "stream",
     "text": [
      "guess #3 of 10: you guessed  [1, 1, 1, 1]\n",
      "you have 1 right item(s) in the right place, and 0 right item(s) but in the wrong place\n"
     ]
    },
    {
     "data": {
      "text/plain": [
       "(1, 0)"
      ]
     },
     "execution_count": 78,
     "metadata": {},
     "output_type": "execute_result"
    }
   ],
   "source": [
    "a.guess_code([1, 1, 1, 1])"
   ]
  },
  {
   "cell_type": "code",
   "execution_count": 79,
   "metadata": {
    "collapsed": false
   },
   "outputs": [
    {
     "name": "stdout",
     "output_type": "stream",
     "text": [
      "guess #4 of 10: you guessed  [4, 4, 4, 4]\n",
      "you have 2 right item(s) in the right place, and 0 right item(s) but in the wrong place\n"
     ]
    },
    {
     "data": {
      "text/plain": [
       "(2, 0)"
      ]
     },
     "execution_count": 79,
     "metadata": {},
     "output_type": "execute_result"
    }
   ],
   "source": [
    "a.guess_code([4, 4, 4, 4])"
   ]
  },
  {
   "cell_type": "code",
   "execution_count": 80,
   "metadata": {
    "collapsed": false
   },
   "outputs": [
    {
     "name": "stdout",
     "output_type": "stream",
     "text": [
      "guess #5 of 10: you guessed  [1, 2, 4, 4]\n",
      "you have 2 right item(s) in the right place, and 2 right item(s) but in the wrong place\n"
     ]
    },
    {
     "data": {
      "text/plain": [
       "(2, 2)"
      ]
     },
     "execution_count": 80,
     "metadata": {},
     "output_type": "execute_result"
    }
   ],
   "source": [
    "a.guess_code([1, 2, 4, 4])"
   ]
  },
  {
   "cell_type": "code",
   "execution_count": 81,
   "metadata": {
    "collapsed": false
   },
   "outputs": [
    {
     "name": "stdout",
     "output_type": "stream",
     "text": [
      "guess #6 of 10: you guessed  [2, 1, 4, 4]\n",
      "you have 4 right item(s) in the right place, and 0 right item(s) but in the wrong place\n",
      "You win!\n"
     ]
    },
    {
     "data": {
      "text/plain": [
       "(4, 0)"
      ]
     },
     "execution_count": 81,
     "metadata": {},
     "output_type": "execute_result"
    }
   ],
   "source": [
    "a.guess_code([2, 1, 4, 4])"
   ]
  },
  {
   "cell_type": "code",
   "execution_count": 82,
   "metadata": {
    "collapsed": false
   },
   "outputs": [
    {
     "data": {
      "text/plain": [
       "-1"
      ]
     },
     "execution_count": 82,
     "metadata": {},
     "output_type": "execute_result"
    }
   ],
   "source": [
    "a.guess_code([1, 1, 4, 4]) # game already over"
   ]
  },
  {
   "cell_type": "code",
   "execution_count": null,
   "metadata": {
    "collapsed": true
   },
   "outputs": [],
   "source": []
  },
  {
   "cell_type": "code",
   "execution_count": 83,
   "metadata": {
    "collapsed": false
   },
   "outputs": [
    {
     "name": "stdout",
     "output_type": "stream",
     "text": [
      "Code successfully initialized to  [1 1 3 3]\n"
     ]
    }
   ],
   "source": [
    "a.set_code([1, 1, 3, 3])"
   ]
  },
  {
   "cell_type": "code",
   "execution_count": 84,
   "metadata": {
    "collapsed": false
   },
   "outputs": [
    {
     "name": "stdout",
     "output_type": "stream",
     "text": [
      "guess #1 of 10: you guessed  [0, 0, 0, 0]\n",
      "you have 0 right item(s) in the right place, and 0 right item(s) but in the wrong place\n"
     ]
    },
    {
     "data": {
      "text/plain": [
       "(0, 0)"
      ]
     },
     "execution_count": 84,
     "metadata": {},
     "output_type": "execute_result"
    }
   ],
   "source": [
    "a.guess_code([0, 0, 0, 0])"
   ]
  },
  {
   "cell_type": "code",
   "execution_count": 85,
   "metadata": {
    "collapsed": false
   },
   "outputs": [
    {
     "name": "stdout",
     "output_type": "stream",
     "text": [
      "guess #2 of 10: you guessed  [0, 0, 0, 0]\n",
      "you have 0 right item(s) in the right place, and 0 right item(s) but in the wrong place\n",
      "guess #3 of 10: you guessed  [0, 0, 0, 0]\n",
      "you have 0 right item(s) in the right place, and 0 right item(s) but in the wrong place\n",
      "guess #4 of 10: you guessed  [0, 0, 0, 0]\n",
      "you have 0 right item(s) in the right place, and 0 right item(s) but in the wrong place\n",
      "guess #5 of 10: you guessed  [0, 0, 0, 0]\n",
      "you have 0 right item(s) in the right place, and 0 right item(s) but in the wrong place\n",
      "guess #6 of 10: you guessed  [0, 0, 0, 0]\n",
      "you have 0 right item(s) in the right place, and 0 right item(s) but in the wrong place\n",
      "guess #7 of 10: you guessed  [0, 0, 0, 0]\n",
      "you have 0 right item(s) in the right place, and 0 right item(s) but in the wrong place\n",
      "guess #8 of 10: you guessed  [0, 0, 0, 0]\n",
      "you have 0 right item(s) in the right place, and 0 right item(s) but in the wrong place\n",
      "guess #9 of 10: you guessed  [0, 0, 0, 0]\n",
      "you have 0 right item(s) in the right place, and 0 right item(s) but in the wrong place\n",
      "guess #10 of 10: you guessed  [0, 0, 0, 0]\n",
      "you have 0 right item(s) in the right place, and 0 right item(s) but in the wrong place\n",
      "Game over. The correct code was [1 1 3 3]\n"
     ]
    },
    {
     "data": {
      "text/plain": [
       "(0, 0)"
      ]
     },
     "execution_count": 85,
     "metadata": {},
     "output_type": "execute_result"
    }
   ],
   "source": [
    "a.guess_code([0, 0, 0, 0])\n",
    "a.guess_code([0, 0, 0, 0])\n",
    "a.guess_code([0, 0, 0, 0])\n",
    "a.guess_code([0, 0, 0, 0])\n",
    "a.guess_code([0, 0, 0, 0])\n",
    "a.guess_code([0, 0, 0, 0])\n",
    "a.guess_code([0, 0, 0, 0])\n",
    "a.guess_code([0, 0, 0, 0])\n",
    "a.guess_code([0, 0, 0, 0])"
   ]
  },
  {
   "cell_type": "code",
   "execution_count": null,
   "metadata": {
    "collapsed": true
   },
   "outputs": [],
   "source": []
  },
  {
   "cell_type": "code",
   "execution_count": 244,
   "metadata": {
    "collapsed": false
   },
   "outputs": [
    {
     "name": "stdout",
     "output_type": "stream",
     "text": [
      "Code successfully initialized. Good luck.\n"
     ]
    }
   ],
   "source": [
    "b = MMboard()\n",
    "b.set_code(showcode=False)"
   ]
  },
  {
   "cell_type": "code",
   "execution_count": 245,
   "metadata": {
    "collapsed": false
   },
   "outputs": [
    {
     "name": "stdout",
     "output_type": "stream",
     "text": [
      "guess #1 of 10: you guessed  [0, 0, 0, 0]\n",
      "you have 0 right item(s) in the right place, and 0 right item(s) but in the wrong place\n"
     ]
    }
   ],
   "source": [
    "b.guess_code([0, 0, 0, 0])"
   ]
  },
  {
   "cell_type": "code",
   "execution_count": 246,
   "metadata": {
    "collapsed": false
   },
   "outputs": [
    {
     "name": "stdout",
     "output_type": "stream",
     "text": [
      "guess #2 of 10: you guessed  [1, 1, 1, 1]\n",
      "you have 1 right item(s) in the right place, and 0 right item(s) but in the wrong place\n"
     ]
    }
   ],
   "source": [
    "b.guess_code([1, 1, 1, 1])"
   ]
  },
  {
   "cell_type": "code",
   "execution_count": 247,
   "metadata": {
    "collapsed": false
   },
   "outputs": [
    {
     "name": "stdout",
     "output_type": "stream",
     "text": [
      "guess #3 of 10: you guessed  [2, 2, 2, 2]\n",
      "you have 2 right item(s) in the right place, and 0 right item(s) but in the wrong place\n"
     ]
    }
   ],
   "source": [
    "b.guess_code([2, 2, 2, 2])"
   ]
  },
  {
   "cell_type": "code",
   "execution_count": 248,
   "metadata": {
    "collapsed": false
   },
   "outputs": [
    {
     "name": "stdout",
     "output_type": "stream",
     "text": [
      "guess #4 of 10: you guessed  [3, 3, 3, 3]\n",
      "you have 0 right item(s) in the right place, and 0 right item(s) but in the wrong place\n"
     ]
    }
   ],
   "source": [
    "b.guess_code([3, 3, 3, 3])"
   ]
  },
  {
   "cell_type": "code",
   "execution_count": 249,
   "metadata": {
    "collapsed": false
   },
   "outputs": [
    {
     "name": "stdout",
     "output_type": "stream",
     "text": [
      "guess #5 of 10: you guessed  [4, 4, 4, 4]\n",
      "you have 0 right item(s) in the right place, and 0 right item(s) but in the wrong place\n"
     ]
    }
   ],
   "source": [
    "b.guess_code([4, 4, 4, 4])"
   ]
  },
  {
   "cell_type": "code",
   "execution_count": 250,
   "metadata": {
    "collapsed": false
   },
   "outputs": [
    {
     "name": "stdout",
     "output_type": "stream",
     "text": [
      "guess #6 of 10: you guessed  [1, 2, 2, 5]\n",
      "you have 1 right item(s) in the right place, and 3 right item(s) but in the wrong place\n"
     ]
    }
   ],
   "source": [
    "b.guess_code([1, 2, 2, 5])"
   ]
  },
  {
   "cell_type": "code",
   "execution_count": 251,
   "metadata": {
    "collapsed": false
   },
   "outputs": [
    {
     "name": "stdout",
     "output_type": "stream",
     "text": [
      "guess #7 of 10: you guessed  [5, 1, 2, 2]\n",
      "you have 2 right item(s) in the right place, and 2 right item(s) but in the wrong place\n"
     ]
    }
   ],
   "source": [
    "b.guess_code([5, 1, 2, 2])"
   ]
  },
  {
   "cell_type": "code",
   "execution_count": 252,
   "metadata": {
    "collapsed": false
   },
   "outputs": [
    {
     "name": "stdout",
     "output_type": "stream",
     "text": [
      "guess #8 of 10: you guessed  [5, 2, 1, 2]\n",
      "you have 4 right item(s) in the right place, and 0 right item(s) but in the wrong place\n",
      "You win!\n"
     ]
    }
   ],
   "source": [
    "b.guess_code([5, 2, 1, 2])"
   ]
  },
  {
   "cell_type": "code",
   "execution_count": null,
   "metadata": {
    "collapsed": true
   },
   "outputs": [],
   "source": []
  }
 ],
 "metadata": {
  "kernelspec": {
   "display_name": "Python 2",
   "language": "python",
   "name": "python2"
  },
  "language_info": {
   "codemirror_mode": {
    "name": "ipython",
    "version": 2
   },
   "file_extension": ".py",
   "mimetype": "text/x-python",
   "name": "python",
   "nbconvert_exporter": "python",
   "pygments_lexer": "ipython2",
   "version": "2.7.11"
  }
 },
 "nbformat": 4,
 "nbformat_minor": 0
}
